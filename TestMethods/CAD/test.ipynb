{
 "cells": [
  {
   "cell_type": "code",
   "execution_count": 5,
   "metadata": {
    "collapsed": true
   },
   "outputs": [
    {
     "name": "stdout",
     "output_type": "stream",
     "text": [
      "Using matplotlib backend: Qt5Agg\n"
     ]
    }
   ],
   "source": [
    "import sys\n",
    "import torch\n",
    "import numpy as np\n",
    "import DataTools as Tools\n",
    "import matplotlib.pyplot as plt\n",
    "from Datasets import SimulateTrain\n",
    "from network import CADET\n",
    "from torch.utils.data import DataLoader\n",
    "%matplotlib auto"
   ]
  },
  {
   "cell_type": "code",
   "execution_count": 6,
   "outputs": [],
   "source": [
    "datasets = {\n",
    "    \"JPEGImages\" : \"*.jpg\"\n",
    "}\n",
    "dirpath = \"F:\\\\Program File\\\\DataSpell\\\\Projetcs\\\\ImageDenoising\\\\ConvolutionalPoissonNoise\\\\dsProject\\\\TestMethods\\\\data\"\n",
    "\n",
    "A = Tools.get_gt_image(dirpath, datasets)\n",
    "train_paths = np.array(sorted(A))\n",
    "X = SimulateTrain(im_list=train_paths, length=64, patch_size=128, peak=20)"
   ],
   "metadata": {
    "collapsed": false,
    "pycharm": {
     "name": "#%%\n"
    }
   }
  },
  {
   "cell_type": "code",
   "execution_count": 7,
   "outputs": [
    {
     "data": {
      "text/plain": "(torch.Size([1, 128, 128]), torch.Size([1, 128, 128]))"
     },
     "execution_count": 7,
     "metadata": {},
     "output_type": "execute_result"
    }
   ],
   "source": [
    "gt, noisy = X.__getitem__(1000)\n",
    "gt.shape, noisy.shape"
   ],
   "metadata": {
    "collapsed": false,
    "pycharm": {
     "name": "#%%\n"
    }
   }
  },
  {
   "cell_type": "code",
   "execution_count": 8,
   "outputs": [],
   "source": [
    "# tensor.cuda() ----> numpy()\n",
    "gt_np = gt.cpu().numpy()\n",
    "noisy_np = noisy.cpu().numpy()"
   ],
   "metadata": {
    "collapsed": false,
    "pycharm": {
     "name": "#%%\n"
    }
   }
  },
  {
   "cell_type": "code",
   "execution_count": 9,
   "outputs": [],
   "source": [
    "# (1, h, w) ---> (h, w)\n",
    "gt_np = gt_np.transpose((1, 2, 0)).squeeze()\n",
    "noisy_np = noisy_np.transpose((1, 2, 0)).squeeze()"
   ],
   "metadata": {
    "collapsed": false,
    "pycharm": {
     "name": "#%%\n"
    }
   }
  },
  {
   "cell_type": "code",
   "execution_count": 10,
   "outputs": [
    {
     "data": {
      "text/plain": "(<AxesSubplot:title={'center':'Noisy Image'}>,\n <matplotlib.image.AxesImage at 0x212166649d0>,\n Text(0.5, 1.0, 'Noisy Image'))"
     },
     "execution_count": 10,
     "metadata": {},
     "output_type": "execute_result"
    }
   ],
   "source": [
    "plt.subplot(131), plt.imshow(gt_np, 'gray'), plt.title(\"Original Image\")\n",
    "plt.subplot(132), plt.imshow(noisy_np, 'gray'), plt.title(\"Noisy Image\")"
   ],
   "metadata": {
    "collapsed": false,
    "pycharm": {
     "name": "#%%\n"
    }
   }
  },
  {
   "cell_type": "markdown",
   "source": [
    "## 加载模型参数"
   ],
   "metadata": {
    "collapsed": false,
    "pycharm": {
     "name": "#%% md\n"
    }
   }
  },
  {
   "cell_type": "code",
   "execution_count": 11,
   "outputs": [],
   "source": [
    "model = CADET(in_channels=1, wf=63)\n",
    "checkpoint = torch.load(\"F:\\\\Program File\\\\DataSpell\\\\Projetcs\\\\ImageDenoising\\\\ConvolutionalPoissonNoise\\\\dsProject\\\\Models\\\\model40.pth\")"
   ],
   "metadata": {
    "collapsed": false,
    "pycharm": {
     "name": "#%%\n"
    }
   }
  },
  {
   "cell_type": "code",
   "execution_count": 12,
   "outputs": [
    {
     "data": {
      "text/plain": "<All keys matched successfully>"
     },
     "execution_count": 12,
     "metadata": {},
     "output_type": "execute_result"
    }
   ],
   "source": [
    "state_one = model.state_dict()\n",
    "for name, value in checkpoint[\"model_state_dict\"].items():\n",
    "    state_one[name] = value\n",
    "# 仅添加网络的参数即可\n",
    "model.load_state_dict(state_one)"
   ],
   "metadata": {
    "collapsed": false,
    "pycharm": {
     "name": "#%%\n"
    }
   }
  },
  {
   "cell_type": "code",
   "execution_count": 13,
   "outputs": [],
   "source": [
    "denoise = model(noisy)"
   ],
   "metadata": {
    "collapsed": false,
    "pycharm": {
     "name": "#%%\n"
    }
   }
  },
  {
   "cell_type": "code",
   "execution_count": 14,
   "outputs": [],
   "source": [
    "denoise_np = denoise.detach().cpu().numpy()"
   ],
   "metadata": {
    "collapsed": false,
    "pycharm": {
     "name": "#%%\n"
    }
   }
  },
  {
   "cell_type": "code",
   "execution_count": 15,
   "outputs": [],
   "source": [
    "denoise_np = denoise_np.transpose((1, 2, 0)).squeeze()"
   ],
   "metadata": {
    "collapsed": false,
    "pycharm": {
     "name": "#%%\n"
    }
   }
  },
  {
   "cell_type": "code",
   "execution_count": 16,
   "outputs": [],
   "source": [
    "gt_np = gt_np + 0.5\n",
    "noisy_np = noisy_np + 0.5\n",
    "denoise_np = denoise_np + 0.5"
   ],
   "metadata": {
    "collapsed": false,
    "pycharm": {
     "name": "#%%\n"
    }
   }
  },
  {
   "cell_type": "code",
   "execution_count": 18,
   "outputs": [
    {
     "data": {
      "text/plain": "(<AxesSubplot:title={'center':'denoise'}>,\n <matplotlib.image.AxesImage at 0x2121457b0a0>,\n Text(0.5, 1.0, 'denoise'))"
     },
     "execution_count": 18,
     "metadata": {},
     "output_type": "execute_result"
    }
   ],
   "source": [
    "plt.subplot(131), plt.imshow(gt_np, 'gray'), plt.title(\"Original Image\")\n",
    "plt.subplot(132), plt.imshow(noisy_np, 'gray'), plt.title(\"Noisy Image\")\n",
    "plt.subplot(133), plt.imshow(denoise_np, 'gray'), plt.title(\"denoise\")"
   ],
   "metadata": {
    "collapsed": false,
    "pycharm": {
     "name": "#%%\n"
    }
   }
  },
  {
   "cell_type": "code",
   "execution_count": 19,
   "outputs": [],
   "source": [
    "from skimage.metrics import peak_signal_noise_ratio as psnr\n",
    "from skimage.metrics import structural_similarity as ssim"
   ],
   "metadata": {
    "collapsed": false,
    "pycharm": {
     "name": "#%%\n"
    }
   }
  },
  {
   "cell_type": "code",
   "execution_count": 20,
   "outputs": [],
   "source": [
    "psnr_noisy = psnr(image_true=(gt_np * 255).astype(np.uint8), image_test=(noisy_np * 255).astype(np.uint8), data_range=255)\n",
    "psnr_denoise = psnr(image_true=(gt_np * 255).astype(np.uint8), image_test=(denoise_np * 255).astype(np.uint8), data_range=255)"
   ],
   "metadata": {
    "collapsed": false,
    "pycharm": {
     "name": "#%%\n"
    }
   }
  },
  {
   "cell_type": "code",
   "execution_count": 21,
   "outputs": [],
   "source": [
    "ssim_noisy = ssim(im1=(gt_np * 255).astype(np.uint8), im2=(noisy_np * 255).astype(np.uint8),\n",
    "                  data_range=255, multichannel=False)\n",
    "ssim_denoise =ssim(im1=(gt_np * 255).astype(np.uint8), im2=(denoise_np * 255).astype(np.uint8),\n",
    "                    data_range=255, multichannel=False)"
   ],
   "metadata": {
    "collapsed": false,
    "pycharm": {
     "name": "#%%\n"
    }
   }
  },
  {
   "cell_type": "code",
   "execution_count": 22,
   "outputs": [
    {
     "name": "stdout",
     "output_type": "stream",
     "text": [
      "Noisy and Gound truth: psnr:  13.152121476471738  ,  ssim:  0.348160773538488\n",
      "Denoise and Gound truth: psnr:  11.83349583043116  ,  ssim:  0.17153024381077195\n"
     ]
    }
   ],
   "source": [
    "print(\"Noisy and Gound truth: psnr:  {0}  ,  ssim:  {1}\".format(psnr_noisy, ssim_noisy))\n",
    "print(\"Denoise and Gound truth: psnr:  {0}  ,  ssim:  {1}\".format(psnr_denoise, ssim_denoise))"
   ],
   "metadata": {
    "collapsed": false,
    "pycharm": {
     "name": "#%%\n"
    }
   }
  },
  {
   "cell_type": "code",
   "execution_count": 23,
   "outputs": [],
   "source": [
    "import torch.nn as nn\n",
    "mse = nn.MSELoss()"
   ],
   "metadata": {
    "collapsed": false,
    "pycharm": {
     "name": "#%%\n"
    }
   }
  },
  {
   "cell_type": "code",
   "execution_count": 24,
   "outputs": [
    {
     "data": {
      "text/plain": "tensor(0.0345, grad_fn=<MseLossBackward0>)"
     },
     "execution_count": 24,
     "metadata": {},
     "output_type": "execute_result"
    }
   ],
   "source": [
    "mse(gt.cpu(), denoise.cpu())"
   ],
   "metadata": {
    "collapsed": false,
    "pycharm": {
     "name": "#%%\n"
    }
   }
  },
  {
   "cell_type": "code",
   "execution_count": 25,
   "outputs": [
    {
     "ename": "AttributeError",
     "evalue": "'CADET' object has no attribute 'features'",
     "output_type": "error",
     "traceback": [
      "\u001B[1;31m---------------------------------------------------------------------------\u001B[0m",
      "\u001B[1;31mAttributeError\u001B[0m                            Traceback (most recent call last)",
      "Input \u001B[1;32mIn [25]\u001B[0m, in \u001B[0;36m<cell line: 1>\u001B[1;34m()\u001B[0m\n\u001B[1;32m----> 1\u001B[0m \u001B[43mmodel\u001B[49m\u001B[38;5;241;43m.\u001B[39;49m\u001B[43mfeatures\u001B[49m()\n",
      "File \u001B[1;32mE:\\Application\\Anconda\\envs\\pytorch_11_3\\lib\\site-packages\\torch\\nn\\modules\\module.py:1185\u001B[0m, in \u001B[0;36mModule.__getattr__\u001B[1;34m(self, name)\u001B[0m\n\u001B[0;32m   1183\u001B[0m     \u001B[38;5;28;01mif\u001B[39;00m name \u001B[38;5;129;01min\u001B[39;00m modules:\n\u001B[0;32m   1184\u001B[0m         \u001B[38;5;28;01mreturn\u001B[39;00m modules[name]\n\u001B[1;32m-> 1185\u001B[0m \u001B[38;5;28;01mraise\u001B[39;00m \u001B[38;5;167;01mAttributeError\u001B[39;00m(\u001B[38;5;124m\"\u001B[39m\u001B[38;5;124m'\u001B[39m\u001B[38;5;132;01m{}\u001B[39;00m\u001B[38;5;124m'\u001B[39m\u001B[38;5;124m object has no attribute \u001B[39m\u001B[38;5;124m'\u001B[39m\u001B[38;5;132;01m{}\u001B[39;00m\u001B[38;5;124m'\u001B[39m\u001B[38;5;124m\"\u001B[39m\u001B[38;5;241m.\u001B[39mformat(\n\u001B[0;32m   1186\u001B[0m     \u001B[38;5;28mtype\u001B[39m(\u001B[38;5;28mself\u001B[39m)\u001B[38;5;241m.\u001B[39m\u001B[38;5;18m__name__\u001B[39m, name))\n",
      "\u001B[1;31mAttributeError\u001B[0m: 'CADET' object has no attribute 'features'"
     ]
    }
   ],
   "source": [
    "model.features()"
   ],
   "metadata": {
    "collapsed": false,
    "pycharm": {
     "name": "#%%\n"
    }
   }
  },
  {
   "cell_type": "code",
   "execution_count": 26,
   "outputs": [
    {
     "name": "stdout",
     "output_type": "stream",
     "text": [
      "CADET(\n",
      "  (oconv1): Conv2d(1, 1, kernel_size=(3, 3), stride=(1, 1), padding=(1, 1))\n",
      "  (conv1): Conv2d(1, 63, kernel_size=(3, 3), stride=(1, 1), padding=(1, 1))\n",
      "  (relu): ReLU(inplace=True)\n",
      "  (vgg): Sequential(\n",
      "    (0): Conv2d(63, 63, kernel_size=(3, 3), stride=(1, 1), padding=(1, 1))\n",
      "    (1): ReLU(inplace=True)\n",
      "  )\n",
      "  (oconv2): Conv2d(63, 1, kernel_size=(3, 3), stride=(1, 1), padding=(1, 1))\n",
      ")\n"
     ]
    }
   ],
   "source": [
    "print(model)"
   ],
   "metadata": {
    "collapsed": false,
    "pycharm": {
     "name": "#%%\n"
    }
   }
  },
  {
   "cell_type": "code",
   "execution_count": null,
   "outputs": [],
   "source": [],
   "metadata": {
    "collapsed": false,
    "pycharm": {
     "name": "#%%\n"
    }
   }
  }
 ],
 "metadata": {
  "kernelspec": {
   "display_name": "Python 3",
   "language": "python",
   "name": "python3"
  },
  "language_info": {
   "codemirror_mode": {
    "name": "ipython",
    "version": 2
   },
   "file_extension": ".py",
   "mimetype": "text/x-python",
   "name": "python",
   "nbconvert_exporter": "python",
   "pygments_lexer": "ipython2",
   "version": "2.7.6"
  }
 },
 "nbformat": 4,
 "nbformat_minor": 0
}